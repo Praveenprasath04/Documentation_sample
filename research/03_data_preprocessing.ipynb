{
 "cells": [
  {
   "cell_type": "code",
   "execution_count": null,
   "metadata": {},
   "outputs": [],
   "source": []
  },
  {
   "cell_type": "code",
   "execution_count": 2,
   "metadata": {},
   "outputs": [
    {
     "data": {
      "text/plain": [
       "'d:\\\\Documentation_sample\\\\research'"
      ]
     },
     "execution_count": 2,
     "metadata": {},
     "output_type": "execute_result"
    }
   ],
   "source": [
    "%pwd"
   ]
  },
  {
   "cell_type": "code",
   "execution_count": 3,
   "metadata": {},
   "outputs": [],
   "source": [
    "import os\n",
    "\n",
    "os.chdir(\"../\")"
   ]
  },
  {
   "cell_type": "code",
   "execution_count": 4,
   "metadata": {},
   "outputs": [
    {
     "data": {
      "text/plain": [
       "'d:\\\\Documentation_sample'"
      ]
     },
     "execution_count": 4,
     "metadata": {},
     "output_type": "execute_result"
    }
   ],
   "source": [
    "%pwd"
   ]
  },
  {
   "cell_type": "code",
   "execution_count": 5,
   "metadata": {},
   "outputs": [],
   "source": [
    "from dataclasses import dataclass\n",
    "from pathlib import Path\n",
    "\n",
    "\n",
    "@dataclass(frozen=True)\n",
    "class DataPreprocessConfig:\n",
    "    root_dir: Path\n",
    "    data_dir : Path\n",
    "    train_loader_dir: Path\n",
    "    valid_loader_dir: Path\n",
    "    test_loader_dir: Path\n",
    "    params_batch_size : int\n",
    "    params_valid_size : float\n",
    "    params_image_dim : int\n"
   ]
  },
  {
   "cell_type": "code",
   "execution_count": 6,
   "metadata": {},
   "outputs": [],
   "source": [
    "from sample_project.constants import *\n",
    "from sample_project.utils.common import read_yaml, create_directories\n",
    "from pathlib import Path"
   ]
  },
  {
   "cell_type": "code",
   "execution_count": 7,
   "metadata": {},
   "outputs": [],
   "source": [
    "class ConfigurationManager:\n",
    "    def __init__(\n",
    "        self,\n",
    "        config_filepath = CONFIG_FILE_PATH,\n",
    "        params_filepath = PARAMS_FILE_PATH):\n",
    "\n",
    "        self.config = read_yaml(config_filepath)\n",
    "        self.params = read_yaml(params_filepath)\n",
    "\n",
    "        create_directories([self.config.artifacts_root])\n",
    "\n",
    "\n",
    "    \n",
    "    def get_data_preprocess_config(self) -> DataPreprocessConfig:\n",
    "        config = self.config.data_preprocessing\n",
    "        params = self.params\n",
    "\n",
    "        create_directories([config.root_dir])\n",
    "\n",
    "        data_preprocess_config = DataPreprocessConfig(\n",
    "            root_dir=config.root_dir,\n",
    "            data_dir = config.data_dir,\n",
    "            train_loader_dir = config.train_loader_dir,\n",
    "            valid_loader_dir = config.valid_loader_dir,\n",
    "            test_loader_dir = config.test_loader_dir,\n",
    "            params_image_dim = params.IMAGE_DIM,\n",
    "            params_batch_size= params.BATCH_SIZE,\n",
    "            params_valid_size = params.VALID_SIZE\n",
    "\n",
    "        )\n",
    "\n",
    "        return data_preprocess_config"
   ]
  },
  {
   "cell_type": "code",
   "execution_count": 8,
   "metadata": {},
   "outputs": [],
   "source": [
    "import os\n",
    "import urllib.request as request\n",
    "import zipfile\n",
    "from sample_project import logger\n",
    "from sample_project.utils.common import get_size\n",
    "from torchvision import datasets, transforms\n",
    "import matplotlib.pyplot as plt\n",
    "import torch.utils.data as data\n",
    "import numpy as np\n",
    "import torch"
   ]
  },
  {
   "cell_type": "code",
   "execution_count": 9,
   "metadata": {},
   "outputs": [],
   "source": [
    "class DataPreprocess:\n",
    "    def __init__(self, config: DataPreprocessConfig):\n",
    "        self.config = config\n",
    "    \n",
    "    def transform_data(self):\n",
    "        image_dim  =self.config.params_image_dim\n",
    "        data_dir = self.config.data_dir\n",
    "\n",
    "        train_transform = transforms.Compose([transforms.ToTensor(),\n",
    "                                      transforms.Resize((image_dim,image_dim)),\n",
    "                                      transforms.Normalize((0.1307,), (0.3081,))])\n",
    "        test_transform = transforms.Compose([transforms.ToTensor(),\n",
    "                                     transforms.Resize((image_dim,image_dim)),\n",
    "                                     transforms.Normalize((0.1307,), (0.3081,))])\n",
    "        \n",
    "\n",
    "        self.train_data = datasets.MNIST(root = data_dir,\n",
    "                            train = True,                         \n",
    "                            transform = train_transform,\n",
    "                            \n",
    "                            )\n",
    "        self.test_data = datasets.MNIST( root = data_dir, \n",
    "                            train = False, \n",
    "                            transform = test_transform,\n",
    "                            )\n",
    "    def split_valid_set(self):\n",
    "    \n",
    "        valid_size = self.config.params_valid_size\n",
    "\n",
    "        train_data = self.train_data\n",
    "        test_data  = self.test_data\n",
    "\n",
    "        valid_set_length = int(valid_size*len(train_data))\n",
    "        train_set_length = len(train_data) - valid_set_length\n",
    "\n",
    "        train_data,valid_data=data.random_split(train_data,[train_set_length,valid_set_length])\n",
    "\n",
    "        self.valid_data = valid_data\n",
    "\n",
    "\n",
    "        print(\"Train_data length:\",len(train_data),\"Valid_data length:\",len(valid_data),\"Test_data length:\",len(test_data))\n",
    "    \n",
    "    def data_loaders(self):\n",
    "\n",
    "        batch_size = self.config.params_batch_size\n",
    "\n",
    "        train_iterator= data.DataLoader(self.train_data,\n",
    "                                        shuffle=True,\n",
    "                                        batch_size=batch_size)\n",
    "\n",
    "        valid_iterator= data.DataLoader(self.valid_data,\n",
    "                                        batch_size=batch_size)\n",
    "\n",
    "        test_iterator= data.DataLoader(self.test_data,\n",
    "                                        batch_size=batch_size)\n",
    "        \n",
    "        self.save_loader(self.config.train_loader_dir,train_iterator)\n",
    "        self.save_loader(self.config.valid_loader_dir,valid_iterator)\n",
    "        self.save_loader(self.config.test_loader_dir,test_iterator)\n",
    "        \n",
    "    @staticmethod\n",
    "    def save_loader(path:Path,loader: data.DataLoader):\n",
    "        torch.save(loader,path)\n",
    "        print(\"Saved at \", path)\n",
    "                \n",
    "\n",
    "\n"
   ]
  },
  {
   "cell_type": "code",
   "execution_count": 10,
   "metadata": {},
   "outputs": [
    {
     "name": "stdout",
     "output_type": "stream",
     "text": [
      "[2024-07-28 01:56:41,341: INFO: common: yaml file: config\\config.yaml loaded successfully]\n",
      "[2024-07-28 01:56:41,344: INFO: common: yaml file: params.yaml loaded successfully]\n",
      "[2024-07-28 01:56:41,345: INFO: common: created directory at: artifacts]\n",
      "[2024-07-28 01:56:41,346: INFO: common: created directory at: artifacts/data_preprocessing]\n",
      "Train_data length: 54000 Valid_data length: 6000 Test_data length: 10000\n",
      "Saved at  artifacts/data_preprocessing/train_loader.ld\n",
      "Saved at  artifacts/data_preprocessing/valid_loader.ld\n",
      "Saved at  artifacts/data_preprocessing/test_loader.ld\n"
     ]
    }
   ],
   "source": [
    "try:\n",
    "    config = ConfigurationManager()\n",
    "    data_preprocess__config = config.get_data_preprocess_config()\n",
    "    data_preprocess = DataPreprocess(config=data_preprocess__config)\n",
    "    data_preprocess.transform_data()\n",
    "    data_preprocess.split_valid_set()\n",
    "    data_preprocess.data_loaders()\n",
    "    \n",
    "except Exception as e:\n",
    "    raise e"
   ]
  },
  {
   "cell_type": "code",
   "execution_count": null,
   "metadata": {},
   "outputs": [],
   "source": []
  },
  {
   "cell_type": "code",
   "execution_count": null,
   "metadata": {},
   "outputs": [],
   "source": []
  }
 ],
 "metadata": {
  "kernelspec": {
   "display_name": "Python 3",
   "language": "python",
   "name": "python3"
  },
  "language_info": {
   "codemirror_mode": {
    "name": "ipython",
    "version": 3
   },
   "file_extension": ".py",
   "mimetype": "text/x-python",
   "name": "python",
   "nbconvert_exporter": "python",
   "pygments_lexer": "ipython3",
   "version": "3.11.0"
  }
 },
 "nbformat": 4,
 "nbformat_minor": 2
}
