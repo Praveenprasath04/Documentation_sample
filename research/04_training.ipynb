{
 "cells": [
  {
   "cell_type": "code",
   "execution_count": 14,
   "metadata": {},
   "outputs": [
    {
     "data": {
      "text/plain": [
       "'d:\\\\Documentation_sample'"
      ]
     },
     "execution_count": 14,
     "metadata": {},
     "output_type": "execute_result"
    }
   ],
   "source": [
    "%pwd\n"
   ]
  },
  {
   "cell_type": "code",
   "execution_count": 2,
   "metadata": {},
   "outputs": [],
   "source": [
    "import os\n",
    "\n",
    "os.chdir(\"../\")"
   ]
  },
  {
   "cell_type": "code",
   "execution_count": 3,
   "metadata": {},
   "outputs": [
    {
     "data": {
      "text/plain": [
       "'d:\\\\Documentation_sample'"
      ]
     },
     "execution_count": 3,
     "metadata": {},
     "output_type": "execute_result"
    }
   ],
   "source": [
    "%pwd"
   ]
  },
  {
   "cell_type": "code",
   "execution_count": 15,
   "metadata": {},
   "outputs": [],
   "source": [
    "from dataclasses import dataclass\n",
    "from pathlib import Path\n",
    "\n",
    "@dataclass(frozen=True)\n",
    "class TrainingConfig:\n",
    "    root_dir: Path\n",
    "    trained_model_path : Path\n",
    "    base_model_path: Path\n",
    "    train_loader_dir : Path\n",
    "    valid_loader_dir :  Path\n",
    "    params_batch_size : int\n",
    "    params_valid_size : float\n",
    "    params_learning_rate : float\n",
    "    params_momentum: float\n",
    "    params_image_dim : int\n",
    "    params_random_seed: int\n",
    "    params_epochs: int"
   ]
  },
  {
   "cell_type": "code",
   "execution_count": 16,
   "metadata": {},
   "outputs": [],
   "source": [
    "from sample_project.constants import *\n",
    "from sample_project.utils.common import read_yaml, create_directories\n",
    "import torch"
   ]
  },
  {
   "cell_type": "code",
   "execution_count": 17,
   "metadata": {},
   "outputs": [],
   "source": [
    "class ConfigurationManager:\n",
    "    def __init__(\n",
    "        self, \n",
    "        config_filepath = CONFIG_FILE_PATH,\n",
    "        params_filepath = PARAMS_FILE_PATH):\n",
    "        self.config = read_yaml(config_filepath)\n",
    "        self.params = read_yaml(params_filepath)\n",
    "        create_directories([self.config.artifacts_root])\n",
    "\n",
    "\n",
    "    def get_training_config(self) -> TrainingConfig:\n",
    "        training = self.config.training\n",
    "        params = self.params\n",
    "        create_directories([\n",
    "            Path(training.root_dir)\n",
    "        ])\n",
    "\n",
    "        training_config = TrainingConfig(\n",
    "            root_dir=Path(training.root_dir),\n",
    "            trained_model_path=Path(training.trained_model_path),\n",
    "            base_model_path=Path(training.base_model_path),\n",
    "            train_loader_dir=Path(training.train_loader_dir),\n",
    "            valid_loader_dir = Path(training.valid_loader_dir),\n",
    "            params_epochs=params.EPOCHS,\n",
    "            params_batch_size=params.BATCH_SIZE,\n",
    "            params_learning_rate = params.LEARNING_RATE,\n",
    "            params_momentum = params.MOMENTUM,\n",
    "            params_image_dim = params.IMAGE_DIM,\n",
    "            params_random_seed = params.RANDOM_SEED,\n",
    "            params_valid_size = params.VALID_SIZE\n",
    "        )\n",
    "\n",
    "        return training_config\n"
   ]
  },
  {
   "cell_type": "code",
   "execution_count": 18,
   "metadata": {},
   "outputs": [],
   "source": [
    "import os\n",
    "import urllib.request as request\n",
    "import zipfile\n",
    "from sample_project import logger\n",
    "from sample_project.utils.common import get_size\n",
    "from torchvision import datasets, transforms\n",
    "import matplotlib.pyplot as plt\n",
    "import torch.utils.data as data\n",
    "import torch.nn as nn\n",
    "import torch.nn.functional as F\n",
    "import torch.optim as optim\n",
    "import numpy as np\n",
    "import torch"
   ]
  },
  {
   "cell_type": "code",
   "execution_count": null,
   "metadata": {},
   "outputs": [],
   "source": []
  },
  {
   "cell_type": "code",
   "execution_count": 19,
   "metadata": {},
   "outputs": [],
   "source": [
    "\n",
    "class Training:\n",
    "    def __init__(self, config: TrainingConfig):\n",
    "        self.config = config\n",
    "        self.device = torch.device('cuda' if torch.cuda.is_available() else 'cpu')\n",
    "\n",
    "    def loading_iterators(self):\n",
    "        self.train_iterator = torch.load(self.config.train_loader_dir)\n",
    "        self.valid_iterator = torch.load(self.config.valid_loader_dir)\n",
    "\n",
    "    def initializing_model(self):\n",
    "        base_model = torch.load(self.config.base_model_path)\n",
    "        torch.save(base_model, self.config.trained_model_path)\n",
    "        self.model = torch.load(self.config.trained_model_path)\n",
    "        self.model = self.model.to(self.device)  # Move model to the specified device\n",
    "        self.loss_fn = nn.CrossEntropyLoss()\n",
    "\n",
    "    def train(self):\n",
    "        self.valid_accuracy, self.valid_loss = self.train_loop(self.model, self.train_iterator, self.valid_iterator,\n",
    "                                                               self.config.params_epochs, self.config.params_learning_rate,\n",
    "                                                               self.config.params_momentum, self.loss_fn)\n",
    "        plt.subplot(1,2,1)\n",
    "        plt.plot(self.valid_loss)\n",
    "        plt.title(\"Validation Loss VS Number Of Epochs\")\n",
    "        plt.xlabel(\"Number of Epochs\")\n",
    "        plt.ylabel(\"Validation_Loss\")\n",
    "\n",
    "        plt.subplot(1,2,2)\n",
    "        plt.plot(self.valid_accuracy)\n",
    "        plt.title(\"Validation accuracy VS Number Of Epochs\")\n",
    "        plt.xlabel(\"Number of Epochs\")\n",
    "        plt.ylabel(\"Validation_accuracy\")\n",
    "        \n",
    "\n",
    "\n",
    "\n",
    "\n",
    "\n",
    "\n",
    "\n",
    "\n",
    "\n",
    "\n",
    "\n",
    "    @staticmethod\n",
    "    def train_loop(model, train_iterator, valid_iterator, epochs: int, learning_rate: float, momentum: float, Loss_function):\n",
    "\n",
    "        def accuracy(Predictions,Actual_labels):\n",
    "            predicted_labels = torch.argmax(Predictions,axis=1)\n",
    "            accuracy = torch.count_nonzero(predicted_labels==Actual_labels)/ len(Actual_labels)\n",
    "            return accuracy\n",
    "        \n",
    "        \n",
    "        \n",
    "        device = next(model.parameters()).device  # Get the device from the model\n",
    "\n",
    "        n_iterations_per_epoch = len(train_iterator)\n",
    "        n_iterations_validation = len(valid_iterator)\n",
    "\n",
    "        best_loss_val = np.infty\n",
    "\n",
    "        optimizer = torch.optim.SGD(model.parameters(), lr=learning_rate, momentum=momentum)\n",
    "\n",
    "        Valid_loss = []\n",
    "        Valid_accuracy = []\n",
    "\n",
    "        for epoch in range(epochs):\n",
    "            model.train()\n",
    "\n",
    "            for iteration, idata in enumerate(train_iterator, 1):\n",
    "                inputs, targets = idata\n",
    "                inputs, targets = inputs.to(device), targets.to(device)\n",
    "\n",
    "                optimizer.zero_grad()\n",
    "\n",
    "                outputs = model(inputs)\n",
    "\n",
    "                loss = Loss_function(outputs, targets)\n",
    "\n",
    "                loss.backward()\n",
    "\n",
    "                optimizer.step()\n",
    "\n",
    "                current_loss = loss.item()\n",
    "\n",
    "                print(\"\\rIteration: {}/{} ({:.1f}%)  Loss: {:.5f}\".format(\n",
    "                        iteration, n_iterations_per_epoch,\n",
    "                        iteration * 100 / n_iterations_per_epoch,\n",
    "                        current_loss),\n",
    "                    end=\"\")\n",
    "                break\n",
    "\n",
    "            model.eval()\n",
    "            loss_vals = []\n",
    "            acc_vals = []\n",
    "            with torch.no_grad():\n",
    "                for iteration, idata in enumerate(valid_iterator, 1):\n",
    "                    inputs, targets = idata\n",
    "                    inputs, targets = inputs.to(device), targets.to(device)\n",
    "                    outputs = model(inputs)\n",
    "                    current_loss = Loss_function(outputs, targets)\n",
    "                    current_accuracy = accuracy(outputs, targets)\n",
    "                    loss_vals.append(float(current_loss))\n",
    "                    acc_vals.append(float(current_accuracy))\n",
    "                    print(\"\\rEvaluating the model: {}/{} ({:.1f}%) Loss: {:.5f} accuracy: {:.5f}\".format(\n",
    "                            iteration, n_iterations_validation,\n",
    "                            iteration * 100 / n_iterations_validation, current_loss, current_accuracy),\n",
    "                        end=\" \" * 10)\n",
    "                    break\n",
    "\n",
    "\n",
    "                loss_val = np.mean(loss_vals)\n",
    "                acc_val = np.mean(acc_vals)\n",
    "\n",
    "                Valid_loss.append(loss_val)\n",
    "                Valid_accuracy.append(acc_val)\n",
    "\n",
    "                print(\"\\rEpoch: {}  Val accuracy: {:.4f}%  Loss: {:.6f}\".format(\n",
    "                    epoch + 1, acc_val * 100, loss_val,\n",
    "                    \"(improved)\" if loss_val < best_loss_val else \"\"))\n",
    "                if epoch+1==epochs:\n",
    "                    logger.info(\"\\rEpoch: {}  Val accuracy: {:.4f}%  Loss: {:.6f}{}\".format(\n",
    "                    epoch + 1, acc_val * 100, loss_val))\n",
    "\n",
    "                if loss_val < best_loss_val:\n",
    "                    best_loss_val = loss_val\n",
    "        \n",
    "\n",
    "        return Valid_accuracy, Valid_loss\n"
   ]
  },
  {
   "cell_type": "code",
   "execution_count": 20,
   "metadata": {},
   "outputs": [
    {
     "name": "stdout",
     "output_type": "stream",
     "text": [
      "[2024-07-29 15:27:05,234: INFO: common: yaml file: config\\config.yaml loaded successfully]\n",
      "[2024-07-29 15:27:05,235: INFO: common: yaml file: params.yaml loaded successfully]\n",
      "[2024-07-29 15:27:05,235: INFO: common: created directory at: artifacts]\n",
      "[2024-07-29 15:27:05,235: INFO: common: created directory at: artifacts\\training]\n",
      "Epoch: 1  Val accuracy: 12.5000%  Loss: 2.302334(improved)].12500          [2024-07-29 15:27:06,251: INFO: 3633166554: \n"
     ]
    },
    {
     "data": {
      "image/png": "[encoded data removed]",
      "text/plain": [
       "<Figure size 640x480 with 2 Axes>"
      ]
     },
     "metadata": {},
     "output_type": "display_data"
    }
   ],
   "source": [
    "try:\n",
    "    config = ConfigurationManager()\n",
    "    Training_config = config.get_training_config()\n",
    "    Training_step = Training(config=Training_config)\n",
    "    Training_step.loading_iterators()\n",
    "    Training_step.initializing_model()\n",
    "    Training_step.train()\n",
    "    \n",
    "except Exception as e:\n",
    "    raise e\n"
   ]
  },
  {
   "cell_type": "code",
   "execution_count": null,
   "metadata": {},
   "outputs": [],
   "source": []
  },
  {
   "cell_type": "code",
   "execution_count": null,
   "metadata": {},
   "outputs": [],
   "source": []
  },
  {
   "cell_type": "code",
   "execution_count": null,
   "metadata": {},
   "outputs": [],
   "source": []
  }
 ],
 "metadata": {
  "kernelspec": {
   "display_name": "Python 3",
   "language": "python",
   "name": "python3"
  },
  "language_info": {
   "codemirror_mode": {
    "name": "ipython",
    "version": 3
   },
   "file_extension": ".py",
   "mimetype": "text/x-python",
   "name": "python",
   "nbconvert_exporter": "python",
   "pygments_lexer": "ipython3",
   "version": "3.11.0"
  }
 },
 "nbformat": 4,
 "nbformat_minor": 2
}
